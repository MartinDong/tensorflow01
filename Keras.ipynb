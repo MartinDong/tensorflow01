{
 "cells": [
  {
   "cell_type": "markdown",
   "id": "sorted-obligation",
   "metadata": {},
   "source": [
    "# 快速开始 30 秒上手 Keras"
   ]
  },
  {
   "cell_type": "code",
   "execution_count": null,
   "id": "interesting-rough",
   "metadata": {},
   "outputs": [],
   "source": [
    "%config IPCompleter.greedy=True #TAB 代码会自动提示"
   ]
  },
  {
   "cell_type": "code",
   "execution_count": 12,
   "id": "superior-malawi",
   "metadata": {},
   "outputs": [],
   "source": [
    "from keras.models import Sequential\n",
    "from tensorflow import keras\n",
    "# 最简单的顺序模型，由多个网络层线性堆叠\n",
    "model = Sequential()"
   ]
  },
  {
   "cell_type": "code",
   "execution_count": 15,
   "id": "chronic-michael",
   "metadata": {},
   "outputs": [],
   "source": [
    "# 可以使用.add()来堆叠模型\n",
    "from keras.layers import Dense\n",
    "\n",
    "\n",
    "model.add(Dense(units=64,activation='relu',input_dim=100))\n",
    "model.add(Dense(units=10,activation='softmax'))\n"
   ]
  },
  {
   "cell_type": "markdown",
   "id": "associate-closer",
   "metadata": {},
   "source": [
    "完成模型的构建后，使用 .compile()来配置学习过程\n"
   ]
  },
  {
   "cell_type": "code",
   "execution_count": 16,
   "id": "diagnostic-hunger",
   "metadata": {},
   "outputs": [],
   "source": [
    "model.compile(\n",
    "    loss='categorical_crossentropy',\n",
    "    optimizer='sgd',\n",
    "    metrics=['accuracy']\n",
    ")"
   ]
  },
  {
   "cell_type": "markdown",
   "id": "timely-cooler",
   "metadata": {},
   "source": [
    "批量地在训练数据上进行迭代了"
   ]
  },
  {
   "cell_type": "code",
   "execution_count": 20,
   "id": "tested-tiger",
   "metadata": {},
   "outputs": [],
   "source": [
    "# 支持大量的维度数组与矩阵运算，此外也针对数组运算提供大量的数学函数库。\n",
    "import numpy as np\n",
    "\n",
    "x_train = np.array([1,2,3,4,5,6,7,8,9,0])\n",
    "y_train = np.array([1,2,3,4,5,6,7,8,9,0])\n",
    "\n",
    "model.fit(x_train, y_train, epochs=5, batch_size=32)"
   ]
  },
  {
   "cell_type": "code",
   "execution_count": null,
   "id": "robust-arabic",
   "metadata": {},
   "outputs": [],
   "source": []
  }
 ],
 "metadata": {
  "kernelspec": {
   "display_name": "Python 3",
   "language": "python",
   "name": "python3"
  },
  "language_info": {
   "codemirror_mode": {
    "name": "ipython",
    "version": 3
   },
   "file_extension": ".py",
   "mimetype": "text/x-python",
   "name": "python",
   "nbconvert_exporter": "python",
   "pygments_lexer": "ipython3",
   "version": "3.8.5"
  }
 },
 "nbformat": 4,
 "nbformat_minor": 5
}

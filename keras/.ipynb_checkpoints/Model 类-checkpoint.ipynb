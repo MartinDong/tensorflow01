{
 "cells": [
  {
   "cell_type": "markdown",
   "id": "alpha-training",
   "metadata": {},
   "source": [
    "# Model 类（函数式 API）"
   ]
  },
  {
   "cell_type": "code",
   "execution_count": null,
   "id": "associate-equilibrium",
   "metadata": {},
   "outputs": [],
   "source": [
    "%config IPCompleter.greedy=True #TAB 代码会自动提示"
   ]
  },
  {
   "cell_type": "code",
   "execution_count": 8,
   "id": "interested-evans",
   "metadata": {},
   "outputs": [],
   "source": [
    "# 实例化Model\n",
    "from keras.models import Model\n",
    "from keras.layers import Input, Dense\n",
    "\n",
    "a = Input(shape=(32,))\n",
    "b = Dense(32)(a)\n",
    "model = Model(inputs=a,outputs=b)\n",
    "\n",
    "# 这个模型将包含从 a 到 b 的计算的所有网络层。"
   ]
  },
  {
   "cell_type": "code",
   "execution_count": null,
   "id": "grave-irish",
   "metadata": {},
   "outputs": [],
   "source": []
  },
  {
   "cell_type": "code",
   "execution_count": null,
   "id": "median-senior",
   "metadata": {},
   "outputs": [],
   "source": []
  },
  {
   "cell_type": "code",
   "execution_count": null,
   "id": "equivalent-finding",
   "metadata": {},
   "outputs": [],
   "source": []
  },
  {
   "cell_type": "code",
   "execution_count": null,
   "id": "finnish-bridal",
   "metadata": {},
   "outputs": [],
   "source": []
  },
  {
   "cell_type": "code",
   "execution_count": null,
   "id": "smooth-tunisia",
   "metadata": {},
   "outputs": [],
   "source": []
  }
 ],
 "metadata": {
  "kernelspec": {
   "display_name": "Python 3",
   "language": "python",
   "name": "python3"
  },
  "language_info": {
   "codemirror_mode": {
    "name": "ipython",
    "version": 3
   },
   "file_extension": ".py",
   "mimetype": "text/x-python",
   "name": "python",
   "nbconvert_exporter": "python",
   "pygments_lexer": "ipython3",
   "version": "3.8.5"
  }
 },
 "nbformat": 4,
 "nbformat_minor": 5
}
